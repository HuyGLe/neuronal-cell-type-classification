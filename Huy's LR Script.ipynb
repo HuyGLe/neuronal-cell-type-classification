{
 "cells": [
  {
   "cell_type": "code",
   "execution_count": 16,
   "metadata": {},
   "outputs": [],
   "source": [
    "from sklearn import metrics\n",
    "from sklearn import preprocessing\n",
    "from sklearn.decomposition import PCA\n",
    "from sklearn.linear_model import LogisticRegression\n",
    "from sklearn.preprocessing import StandardScaler\n",
    "import matplotlib.pyplot as plt\n",
    "import numpy as np\n",
    "import os\n",
    "import pandas as pd"
   ]
  },
  {
   "cell_type": "code",
   "execution_count": 59,
   "metadata": {},
   "outputs": [
    {
     "name": "stdout",
     "output_type": "stream",
     "text": [
      "CPU times: user 1.61 s, sys: 266 ms, total: 1.88 s\n",
      "Wall time: 1.87 s\n"
     ]
    }
   ],
   "source": [
    "%%time\n",
    "train = pd.read_csv(\"./datasets/cov_filtered_3.5_training.csv\", index_col=None)"
   ]
  },
  {
   "cell_type": "code",
   "execution_count": 60,
   "metadata": {},
   "outputs": [
    {
     "name": "stdout",
     "output_type": "stream",
     "text": [
      "CPU times: user 594 ms, sys: 46.9 ms, total: 641 ms\n",
      "Wall time: 658 ms\n"
     ]
    }
   ],
   "source": [
    "%%time\n",
    "validation = pd.read_csv(\"./datasets/cov_filtered_3.5_validation.csv\", index_col=None)"
   ]
  },
  {
   "cell_type": "code",
   "execution_count": 61,
   "metadata": {},
   "outputs": [
    {
     "name": "stdout",
     "output_type": "stream",
     "text": [
      "CPU times: user 578 ms, sys: 109 ms, total: 688 ms\n",
      "Wall time: 628 ms\n"
     ]
    }
   ],
   "source": [
    "%%time\n",
    "test = pd.read_csv(\"./datasets/cov_filtered_3.5_test.csv\", index_col=None)"
   ]
  },
  {
   "cell_type": "code",
   "execution_count": 62,
   "metadata": {},
   "outputs": [],
   "source": [
    "labels = pd.read_csv(\"labels.csv\")\n",
    "labels.columns = [\"Label\", \"Cluster\"]\n",
    "labels_dict = {}\n",
    "for i in range(75):\n",
    "    labels_dict[labels.iloc[i,1]] = i\n",
    "train[\"Classification\"].replace(labels_dict, inplace=True)\n",
    "validation[\"Classification\"].replace(labels_dict, inplace=True)\n",
    "test[\"Classification\"].replace(labels_dict, inplace=True)"
   ]
  },
  {
   "cell_type": "code",
   "execution_count": 63,
   "metadata": {},
   "outputs": [],
   "source": [
    "size = train.shape[1] - 1\n",
    "x = train.iloc[:, 1:size]\n",
    "y = train.iloc[:, [size]]\n",
    "x_val = validation.iloc[:,1:size]\n",
    "y_val = validation.iloc[:,[size]]\n",
    "x_test = test.iloc[:,1:size]\n",
    "y_test = test.iloc[:,[size]]"
   ]
  },
  {
   "cell_type": "code",
   "execution_count": 47,
   "metadata": {},
   "outputs": [],
   "source": [
    "clf = LogisticRegression(random_state=123456, penalty='l2', solver=\"newton-cg\", max_iter=100, multi_class=\"multinomial\", n_jobs=-1)"
   ]
  },
  {
   "cell_type": "code",
   "execution_count": 48,
   "metadata": {},
   "outputs": [
    {
     "name": "stdout",
     "output_type": "stream",
     "text": [
      "CPU times: user 219 ms, sys: 141 ms, total: 359 ms\n",
      "Wall time: 3min 42s\n"
     ]
    },
    {
     "data": {
      "text/plain": [
       "LogisticRegression(multi_class='multinomial', n_jobs=-1, random_state=123456,\n",
       "                   solver='newton-cg')"
      ]
     },
     "execution_count": 48,
     "metadata": {},
     "output_type": "execute_result"
    }
   ],
   "source": [
    "%%time\n",
    "clf.fit(x, y.values.ravel())"
   ]
  },
  {
   "cell_type": "markdown",
   "metadata": {},
   "source": [
    "## Run only one box of the three below"
   ]
  },
  {
   "cell_type": "code",
   "execution_count": 39,
   "metadata": {},
   "outputs": [],
   "source": [
    "# Run this to predict on validation set\n",
    "y_pred = clf.predict(x_val)\n",
    "cm = pd.DataFrame(metrics.confusion_matrix(y_val, y_pred))"
   ]
  },
  {
   "cell_type": "code",
   "execution_count": 50,
   "metadata": {},
   "outputs": [],
   "source": [
    "# Run this to predict on training set\n",
    "y_pred = clf.predict(x)\n",
    "cm = pd.DataFrame(metrics.confusion_matrix(y, y_pred))"
   ]
  },
  {
   "cell_type": "code",
   "execution_count": 64,
   "metadata": {},
   "outputs": [],
   "source": [
    "# Run this to predict on testing set\n",
    "y_pred = clf.predict(x_test)\n",
    "cm = pd.DataFrame(metrics.confusion_matrix(y_test, y_pred))"
   ]
  },
  {
   "cell_type": "markdown",
   "metadata": {},
   "source": [
    "## "
   ]
  },
  {
   "cell_type": "code",
   "execution_count": 65,
   "metadata": {},
   "outputs": [],
   "source": [
    "new_cm = pd.DataFrame(columns = [\"TN\", \"FP\", \"FN\", \"TP\"])\n",
    "for i in range(75):\n",
    "    true_negative = 0\n",
    "    for j in range(75):\n",
    "        if j == i:\n",
    "            continue\n",
    "        true_negative += sum(cm[j][0:i].append(cm[j][i+1:]))\n",
    "    new_cm.loc[i] = [true_negative, sum(cm[i][0:i].append(cm[i][i+1:])), sum(cm.iloc[i][0:i].append(cm.iloc[i][i+1:])), cm[i][i]]"
   ]
  },
  {
   "cell_type": "code",
   "execution_count": 66,
   "metadata": {},
   "outputs": [],
   "source": [
    "cm = new_cm"
   ]
  },
  {
   "cell_type": "code",
   "execution_count": 67,
   "metadata": {},
   "outputs": [],
   "source": [
    "labels = pd.read_csv(\"labels.csv\")\n",
    "dataset_sizes = pd.read_csv(\"subset sizes.csv\", header = None)"
   ]
  },
  {
   "cell_type": "code",
   "execution_count": 68,
   "metadata": {},
   "outputs": [],
   "source": [
    "cm[\"TN\"] = cm[\"TN\"].astype(np.int64)\n",
    "cm[\"FP\"] = cm[\"FP\"].astype(np.int64)\n",
    "cm[\"FN\"] = cm[\"FN\"].astype(np.int64)\n",
    "cm[\"TP\"] = cm[\"TP\"].astype(np.int64)\n",
    "cm = cm.assign(precision = cm[\"TP\"] / (cm[\"TP\"] + cm[\"FP\"]))\n",
    "cm[\"precision\"].astype(np.float64)\n",
    "#cm[\"precision\"].fillna(1, inplace=True)\n",
    "cm = cm.assign(recall = cm[\"TP\"] / (cm[\"TP\"] + cm[\"FN\"]))\n",
    "cm[\"recall\"].astype(np.float64)\n",
    "cm = cm.assign(f1 = 2 * 1 / ((1 / cm[\"precision\"]) + (1 / cm[\"recall\"])))\n",
    "cm = cm.assign(fbeta = (1 + 0.5 ** 2) * (cm[\"precision\"] * cm[\"recall\"]) / ((0.5 ** 2 * cm[\"precision\"]) + cm[\"recall\"]))\n",
    "cm[\"fbeta\"].fillna(0, inplace=True)\n",
    "cm[\"cluster\"] = labels[\"0\"]\n",
    "cm = cm.merge(dataset_sizes, how = 'inner', left_on='cluster', right_on=0)\n",
    "cm.drop(columns=0, inplace = True)\n",
    "cm.rename(columns={1:\"size\"}, inplace = True)\n",
    "cm[\"log_size\"] = np.log2(cm[\"size\"])"
   ]
  },
  {
   "cell_type": "code",
   "execution_count": 69,
   "metadata": {},
   "outputs": [
    {
     "data": {
      "text/plain": [
       "Text(0, 0.5, 'F-beta Score')"
      ]
     },
     "execution_count": 69,
     "metadata": {},
     "output_type": "execute_result"
    },
    {
     "data": {
      "image/png": "[encoded data removed]",
      "text/plain": [
       "<Figure size 432x288 with 1 Axes>"
      ]
     },
     "metadata": {
      "needs_background": "light"
     },
     "output_type": "display_data"
    }
   ],
   "source": [
    "fig = cm.plot.scatter(x=\"log_size\", y=\"fbeta\", title=\"LR C=0.1, Newton\", ylim=[-0.05,1.05]).get_figure()\n",
    "plt.xlabel(\"Log2 Size\")\n",
    "plt.ylabel(\"F-beta Score\")"
   ]
  },
  {
   "cell_type": "code",
   "execution_count": 45,
   "metadata": {},
   "outputs": [],
   "source": [
    "pd.DataFrame(y_pred).to_csv(\"./default and optimal/lr_multi_optimal_Val_cov_3.5_pred.csv\")"
   ]
  },
  {
   "cell_type": "code",
   "execution_count": 70,
   "metadata": {},
   "outputs": [],
   "source": [
    "cm.to_csv(\"./default and optimal/lr_multi_optimal_test_cov_3.5.csv\")"
   ]
  }
 ],
 "metadata": {
  "kernelspec": {
   "display_name": "Python 3",
   "language": "python",
   "name": "python3"
  },
  "language_info": {
   "codemirror_mode": {
    "name": "ipython",
    "version": 3
   },
   "file_extension": ".py",
   "mimetype": "text/x-python",
   "name": "python",
   "nbconvert_exporter": "python",
   "pygments_lexer": "ipython3",
   "version": "3.8.5"
  }
 },
 "nbformat": 4,
 "nbformat_minor": 4
}
