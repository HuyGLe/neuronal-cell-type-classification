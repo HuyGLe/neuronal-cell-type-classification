{
 "cells": [
  {
   "cell_type": "code",
   "execution_count": 2,
   "metadata": {},
   "outputs": [],
   "source": [
    "import pandas as pd\n",
    "import numpy as np\n",
    "import tensorflow as tf\n",
    "import matplotlib.pyplot as plt\n",
    "from sklearn import metrics\n",
    "from matplotlib.ticker import MaxNLocator\n",
    "from tensorflow.keras.layers import Dense\n",
    "from tensorflow.keras import regularizers\n",
    "from sklearn import metrics\n",
    "import lightgbm as lgb\n",
    "import os"
   ]
  },
  {
   "cell_type": "code",
   "execution_count": 3,
   "metadata": {},
   "outputs": [
    {
     "name": "stdout",
     "output_type": "stream",
     "text": [
      "CPU times: user 6.92 s, sys: 1 s, total: 7.92 s\n",
      "Wall time: 8.07 s\n"
     ]
    }
   ],
   "source": [
    "%%time\n",
    "train_full = pd.read_csv(\"./datasets/cov_filtered_2.5_training.csv\",index_col = 0)\n",
    "validation_full = pd.read_csv(\"./datasets/cov_filtered_2.5_validation.csv\",index_col = 0)\n",
    "test_full = pd.read_csv(\"./datasets/cov_filtered_2.5_test.csv\",index_col = 0)\n",
    "\n",
    "# print(train_full.shape) \n",
    "# print(validation_full.shape) \n",
    "\n",
    "dataset_sizes = pd.read_csv(\"subset sizes.csv\", header = None)\n",
    "\n",
    "# Labels -> numbers\n",
    "labels = pd.read_csv(\"labels.csv\")\n",
    "labels.columns = [\"Label\", \"Cluster\"]\n",
    "labels_dict = {}\n",
    "for i in range(75):\n",
    "    labels_dict[labels.iloc[i,1]] = i\n",
    "train_full[\"Classification\"].replace(labels_dict, inplace=True)\n",
    "validation_full[\"Classification\"].replace(labels_dict, inplace=True)\n",
    "test_full[\"Classification\"].replace(labels_dict, inplace=True)"
   ]
  },
  {
   "cell_type": "code",
   "execution_count": 4,
   "metadata": {},
   "outputs": [],
   "source": [
    "train = train_full\n",
    "validation = validation_full\n",
    "test = test_full"
   ]
  },
  {
   "cell_type": "code",
   "execution_count": 6,
   "metadata": {},
   "outputs": [],
   "source": [
    "size = train.shape[1] - 1\n",
    "x_train = train.iloc[:, 0:size]\n",
    "y_train = train.iloc[:, [size]]\n",
    "x_val = validation.iloc[:, 0:size]\n",
    "y_val = validation.iloc[:,[size]]\n",
    "x_test = test.iloc[:,0:size]\n",
    "y_test = test.iloc[:,[size]]"
   ]
  },
  {
   "cell_type": "code",
   "execution_count": 7,
   "metadata": {},
   "outputs": [],
   "source": [
    "lgb_train = lgb.Dataset(x_train, label=y_train, params={'verbose': -1}, free_raw_data=False)"
   ]
  },
  {
   "cell_type": "code",
   "execution_count": 8,
   "metadata": {},
   "outputs": [],
   "source": [
    "# reference parameter?\n",
    "lgb_val = lgb.Dataset(x_val, label=y_val, params={'verbose': -1}, free_raw_data=False)"
   ]
  },
  {
   "cell_type": "code",
   "execution_count": 9,
   "metadata": {},
   "outputs": [],
   "source": [
    "params = {\n",
    "            'task': 'train',\n",
    "            'boosting_type': 'gbdt',  \n",
    "            'objective': 'multiclass',\n",
    "            'num_class': 75,\n",
    "            'metric': 'multi_error',\n",
    "            'num_leaves': 50,\n",
    "            'min_data_in_leaf': 1250,\n",
    "            'lambda_l2': 1,\n",
    "            'extra_trees': True,\n",
    "            'path_smooth': 1,\n",
    "            'max_bin': 50,\n",
    "            'verbose': -1 \n",
    "        }"
   ]
  },
  {
   "cell_type": "code",
   "execution_count": 10,
   "metadata": {
    "scrolled": true
   },
   "outputs": [
    {
     "name": "stdout",
     "output_type": "stream",
     "text": [
      "[1]\tvalid_0's multi_error: 0.829542\n",
      "Training until validation scores don't improve for 1000 rounds\n",
      "[2]\tvalid_0's multi_error: 0.692406\n",
      "[3]\tvalid_0's multi_error: 0.624159\n",
      "[4]\tvalid_0's multi_error: 0.49215\n",
      "[5]\tvalid_0's multi_error: 0.42967\n",
      "[6]\tvalid_0's multi_error: 0.3909\n",
      "[7]\tvalid_0's multi_error: 0.353092\n",
      "[8]\tvalid_0's multi_error: 0.303108\n",
      "[9]\tvalid_0's multi_error: 0.274591\n",
      "[10]\tvalid_0's multi_error: 0.240948\n",
      "[11]\tvalid_0's multi_error: 0.223646\n",
      "[12]\tvalid_0's multi_error: 0.201538\n",
      "[13]\tvalid_0's multi_error: 0.184556\n",
      "[14]\tvalid_0's multi_error: 0.176226\n",
      "[15]\tvalid_0's multi_error: 0.160846\n",
      "[16]\tvalid_0's multi_error: 0.148991\n",
      "[17]\tvalid_0's multi_error: 0.141301\n",
      "[18]\tvalid_0's multi_error: 0.134252\n",
      "[19]\tvalid_0's multi_error: 0.128164\n",
      "[20]\tvalid_0's multi_error: 0.125921\n",
      "[21]\tvalid_0's multi_error: 0.121756\n",
      "[22]\tvalid_0's multi_error: 0.115348\n",
      "[23]\tvalid_0's multi_error: 0.109901\n",
      "[24]\tvalid_0's multi_error: 0.107978\n",
      "[25]\tvalid_0's multi_error: 0.10125\n",
      "[26]\tvalid_0's multi_error: 0.0974047\n",
      "[27]\tvalid_0's multi_error: 0.0929189\n",
      "[28]\tvalid_0's multi_error: 0.0897148\n",
      "[29]\tvalid_0's multi_error: 0.0858699\n",
      "[30]\tvalid_0's multi_error: 0.082025\n",
      "[31]\tvalid_0's multi_error: 0.0810638\n",
      "[32]\tvalid_0's multi_error: 0.0804229\n",
      "[33]\tvalid_0's multi_error: 0.0823454\n",
      "[34]\tvalid_0's multi_error: 0.0785005\n",
      "[35]\tvalid_0's multi_error: 0.0768984\n",
      "[36]\tvalid_0's multi_error: 0.0759372\n",
      "[37]\tvalid_0's multi_error: 0.0746556\n",
      "[38]\tvalid_0's multi_error: 0.0730535\n",
      "[39]\tvalid_0's multi_error: 0.0724127\n",
      "[40]\tvalid_0's multi_error: 0.071131\n",
      "[41]\tvalid_0's multi_error: 0.0698494\n",
      "[42]\tvalid_0's multi_error: 0.069529\n",
      "[43]\tvalid_0's multi_error: 0.0672861\n",
      "[44]\tvalid_0's multi_error: 0.0669657\n",
      "[45]\tvalid_0's multi_error: 0.0660045\n",
      "[46]\tvalid_0's multi_error: 0.0644024\n",
      "[47]\tvalid_0's multi_error: 0.0644024\n",
      "[48]\tvalid_0's multi_error: 0.064082\n",
      "[49]\tvalid_0's multi_error: 0.0634412\n",
      "[50]\tvalid_0's multi_error: 0.0608779\n",
      "[51]\tvalid_0's multi_error: 0.0602371\n",
      "[52]\tvalid_0's multi_error: 0.0608779\n",
      "[53]\tvalid_0's multi_error: 0.0599167\n",
      "[54]\tvalid_0's multi_error: 0.0586351\n",
      "[55]\tvalid_0's multi_error: 0.0579942\n",
      "[56]\tvalid_0's multi_error: 0.0589555\n",
      "[57]\tvalid_0's multi_error: 0.0583146\n",
      "[58]\tvalid_0's multi_error: 0.0583146\n",
      "[59]\tvalid_0's multi_error: 0.0576738\n",
      "[60]\tvalid_0's multi_error: 0.0567126\n",
      "[61]\tvalid_0's multi_error: 0.0583146\n",
      "[62]\tvalid_0's multi_error: 0.0579942\n",
      "[63]\tvalid_0's multi_error: 0.0579942\n",
      "[64]\tvalid_0's multi_error: 0.0567126\n",
      "[65]\tvalid_0's multi_error: 0.0567126\n",
      "[66]\tvalid_0's multi_error: 0.057033\n",
      "[67]\tvalid_0's multi_error: 0.0573534\n",
      "[68]\tvalid_0's multi_error: 0.057033\n",
      "[69]\tvalid_0's multi_error: 0.0557514\n",
      "[70]\tvalid_0's multi_error: 0.0557514\n",
      "[71]\tvalid_0's multi_error: 0.0544697\n",
      "[72]\tvalid_0's multi_error: 0.0551105\n",
      "[73]\tvalid_0's multi_error: 0.0538289\n",
      "[74]\tvalid_0's multi_error: 0.0544697\n",
      "[75]\tvalid_0's multi_error: 0.055431\n",
      "[76]\tvalid_0's multi_error: 0.055431\n",
      "[77]\tvalid_0's multi_error: 0.0560718\n",
      "[78]\tvalid_0's multi_error: 0.0544697\n",
      "[79]\tvalid_0's multi_error: 0.0547901\n",
      "[80]\tvalid_0's multi_error: 0.0551105\n",
      "[81]\tvalid_0's multi_error: 0.0547901\n",
      "[82]\tvalid_0's multi_error: 0.0544697\n",
      "[83]\tvalid_0's multi_error: 0.0547901\n",
      "[84]\tvalid_0's multi_error: 0.0538289\n",
      "[85]\tvalid_0's multi_error: 0.0531881\n",
      "[86]\tvalid_0's multi_error: 0.0531881\n",
      "[87]\tvalid_0's multi_error: 0.0541493\n",
      "[88]\tvalid_0's multi_error: 0.051586\n",
      "[89]\tvalid_0's multi_error: 0.0531881\n",
      "[90]\tvalid_0's multi_error: 0.0525473\n",
      "[91]\tvalid_0's multi_error: 0.0519064\n",
      "[92]\tvalid_0's multi_error: 0.051586\n",
      "[93]\tvalid_0's multi_error: 0.0525473\n",
      "[94]\tvalid_0's multi_error: 0.0519064\n",
      "[95]\tvalid_0's multi_error: 0.0519064\n",
      "[96]\tvalid_0's multi_error: 0.0519064\n",
      "[97]\tvalid_0's multi_error: 0.051586\n",
      "[98]\tvalid_0's multi_error: 0.0512656\n",
      "[99]\tvalid_0's multi_error: 0.0519064\n",
      "[100]\tvalid_0's multi_error: 0.0519064\n",
      "Did not meet early stopping. Best iteration is:\n",
      "[98]\tvalid_0's multi_error: 0.0512656\n",
      "CPU times: user 7min 16s, sys: 6.38 s, total: 7min 22s\n",
      "Wall time: 2min 14s\n"
     ]
    }
   ],
   "source": [
    "%%time\n",
    "best = lgb.train(params, lgb_train, valid_sets=[lgb_val], early_stopping_rounds=1000)"
   ]
  },
  {
   "cell_type": "code",
   "execution_count": 12,
   "metadata": {
    "scrolled": true
   },
   "outputs": [
    {
     "data": {
      "text/plain": [
       "Text(0, 0.5, 'F-beta Score')"
      ]
     },
     "execution_count": 12,
     "metadata": {},
     "output_type": "execute_result"
    },
    {
     "data": {
      "image/png": "[encoded data removed]",
      "text/plain": [
       "<Figure size 432x288 with 1 Axes>"
      ]
     },
     "metadata": {
      "needs_background": "light"
     },
     "output_type": "display_data"
    }
   ],
   "source": [
    "predictions = best.predict(x_val)\n",
    "y_pred = []\n",
    "for pred in predictions: \n",
    "    y_pred.append(np.argmax(pred))\n",
    "cm = pd.DataFrame(metrics.confusion_matrix(y_val, y_pred))\n",
    "new_cm = pd.DataFrame(columns = [\"TN\", \"FP\", \"FN\", \"TP\"])\n",
    "for i in range(75):\n",
    "    true_negative = 0\n",
    "    for j in range(75):\n",
    "        if j == i:\n",
    "            continue\n",
    "        true_negative += sum(cm[j][0:i].append(cm[j][i+1:]))\n",
    "    new_cm.loc[i] = [true_negative, sum(cm[i][0:i].append(cm[i][i+1:])), sum(cm.iloc[i][0:i].append(cm.iloc[i][i+1:])), cm[i][i]]\n",
    "labels = pd.read_csv(\"labels.csv\")\n",
    "labels.columns = [\"Label\", \"Cluster\"]\n",
    "labels_dict = {}\n",
    "for i in range(75):\n",
    "    labels_dict[labels.iloc[i,1]] = i\n",
    "dataset_sizes = pd.read_csv(\"subset sizes.csv\", header = None)\n",
    "cm = new_cm\n",
    "cm[\"TN\"] = cm[\"TN\"].astype(np.int64)\n",
    "cm[\"FP\"] = cm[\"FP\"].astype(np.int64)\n",
    "cm[\"FN\"] = cm[\"FN\"].astype(np.int64)\n",
    "cm[\"TP\"] = cm[\"TP\"].astype(np.int64)\n",
    "cm = cm.assign(precision = cm[\"TP\"] / (cm[\"TP\"] + cm[\"FP\"]))\n",
    "cm[\"precision\"].astype(np.float64)\n",
    "cm = cm.assign(recall = cm[\"TP\"] / (cm[\"TP\"] + cm[\"FN\"]))\n",
    "cm[\"recall\"].astype(np.float64)\n",
    "cm = cm.assign(f1 = 2 * 1 / ((1 / cm[\"precision\"]) + (1 / cm[\"recall\"])))\n",
    "cm = cm.assign(fbeta = (1 + 0.5 ** 2) * (cm[\"precision\"] * cm[\"recall\"]) / ((0.5 ** 2 * cm[\"precision\"]) + cm[\"recall\"]))\n",
    "cm[\"fbeta\"].fillna(0, inplace=True)\n",
    "cm[\"cluster\"] = labels[\"Cluster\"]\n",
    "cm = cm.merge(dataset_sizes, how = 'inner', left_on='cluster', right_on=0)\n",
    "cm.drop(columns=0, inplace = True)\n",
    "cm.rename(columns={1:\"size\"}, inplace = True)\n",
    "cm[\"log_size\"] = np.log2(cm[\"size\"])\n",
    "fig = cm.plot.scatter(x=\"log_size\", y=\"fbeta\", title=\"LightGBM No Filtering\", ylim=[-0.05,1.05]).get_figure()\n",
    "plt.xlabel(\"Log2 Size\")\n",
    "plt.ylabel(\"F-beta Score\")"
   ]
  },
  {
   "cell_type": "code",
   "execution_count": 15,
   "metadata": {},
   "outputs": [
    {
     "data": {
      "text/plain": [
       "0.9457404468807059"
      ]
     },
     "execution_count": 15,
     "metadata": {},
     "output_type": "execute_result"
    }
   ],
   "source": [
    "metrics.cohen_kappa_score(y_pred, y_val)"
   ]
  },
  {
   "cell_type": "code",
   "execution_count": 18,
   "metadata": {},
   "outputs": [],
   "source": [
    "cm.to_csv(\"./default and optimal/lgbm_optimal_validation_cov_2.5.csv\")"
   ]
  }
 ],
 "metadata": {
  "kernelspec": {
   "display_name": "Python 3",
   "language": "python",
   "name": "python3"
  },
  "language_info": {
   "codemirror_mode": {
    "name": "ipython",
    "version": 3
   },
   "file_extension": ".py",
   "mimetype": "text/x-python",
   "name": "python",
   "nbconvert_exporter": "python",
   "pygments_lexer": "ipython3",
   "version": "3.8.5"
  }
 },
 "nbformat": 4,
 "nbformat_minor": 4
}
