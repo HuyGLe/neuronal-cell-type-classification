{
 "cells": [
  {
   "cell_type": "markdown",
   "metadata": {},
   "source": [
    "## Import Packages"
   ]
  },
  {
   "cell_type": "code",
   "execution_count": 4,
   "metadata": {},
   "outputs": [],
   "source": [
    "import pandas as pd\n",
    "import numpy as np\n",
    "import tensorflow as tf\n",
    "import matplotlib.pyplot as plt\n",
    "from sklearn import metrics\n",
    "from matplotlib.ticker import MaxNLocator\n",
    "import kerastuner as kt\n",
    "from tensorflow.keras.layers import Dense\n",
    "from tensorflow.keras import regularizers\n",
    "from tensorflow.keras import Model\n",
    "import os"
   ]
  },
  {
   "cell_type": "markdown",
   "metadata": {},
   "source": [
    "## Setting Parameters"
   ]
  },
  {
   "cell_type": "code",
   "execution_count": 7,
   "metadata": {},
   "outputs": [],
   "source": [
    "# Coefficient of Variation\n",
    "COV = 3.5"
   ]
  },
  {
   "cell_type": "code",
   "execution_count": 32,
   "metadata": {},
   "outputs": [],
   "source": [
    "# Model Parameters\n",
    "num_neurons_per_layer = 100\n",
    "hidden_layers = 2\n",
    "activation_function = \"relu\"\n",
    "l2_regularization = 0.00001\n",
    "optimizer = \"adam\"\n",
    "loss = \"SCCE\""
   ]
  },
  {
   "cell_type": "code",
   "execution_count": 42,
   "metadata": {},
   "outputs": [],
   "source": [
    "# Training Parameters\n",
    "epochs = 30"
   ]
  },
  {
   "cell_type": "markdown",
   "metadata": {},
   "source": [
    "## Loading Data"
   ]
  },
  {
   "cell_type": "code",
   "execution_count": 8,
   "metadata": {},
   "outputs": [
    {
     "name": "stdout",
     "output_type": "stream",
     "text": [
      "CPU times: user 2.16 s, sys: 500 ms, total: 2.66 s\n",
      "Wall time: 2.73 s\n"
     ]
    }
   ],
   "source": [
    "%%time\n",
    "train = pd.read_csv(\"./datasets/cov_filtered_\" + str(COV) + \"_training.csv\", index_col = 0)\n",
    "validation = pd.read_csv(\"./datasets/cov_filtered_\" + str(COV) + \"_validation.csv\", index_col = 0)\n",
    "\n",
    "dataset_sizes = pd.read_csv(\"subset sizes.csv\", header = None)\n",
    "\n",
    "# Labels -> numbers\n",
    "labels = pd.read_csv(\"labels.csv\")\n",
    "labels.columns = [\"Label\", \"Cluster\"]\n",
    "labels_dict = {}\n",
    "for i in range(75):\n",
    "    labels_dict[labels.iloc[i,1]] = i\n",
    "train[\"Classification\"].replace(labels_dict, inplace=True)\n",
    "validation[\"Classification\"].replace(labels_dict, inplace=True)"
   ]
  },
  {
   "cell_type": "code",
   "execution_count": 37,
   "metadata": {},
   "outputs": [],
   "source": [
    "input_size = train.shape[1] - 1\n",
    "x_train = train.iloc[:, 1:size]\n",
    "y_train = train.iloc[:, [size]]\n",
    "x_val = validation.iloc[:,1:size]\n",
    "y_val = validation.iloc[:,[size]]"
   ]
  },
  {
   "cell_type": "markdown",
   "metadata": {},
   "source": [
    "## Defining Useful Functions"
   ]
  },
  {
   "cell_type": "code",
   "execution_count": 38,
   "metadata": {},
   "outputs": [],
   "source": [
    "def ModelSameLayer(size, neurons, hls = 2, activ = \"relu\", l2reg = None, optimizer = 'adam', loss = \"SCCE\"):\n",
    "    model = tf.keras.Sequential()\n",
    "    reg_val = l2reg\n",
    "    if l2reg != None:\n",
    "        reg_val = regularizers.l2(l2reg) \n",
    "    if loss == \"SCCE\":\n",
    "        loss = tf.keras.losses.SparseCategoricalCrossentropy(from_logits=True)\n",
    "    model.add(Dense(neurons, input_shape=(size - 1,), activation = activ, kernel_regularizer = reg_val))\n",
    "    for i in range(1, hls + 1):\n",
    "        model.add(Dense(neurons, activation = activ, kernel_regularizer = reg_val))\n",
    "    model.add(Dense(75))\n",
    "    model.compile(optimizer=optimizer, loss=loss)\n",
    "    return model"
   ]
  },
  {
   "cell_type": "code",
   "execution_count": 39,
   "metadata": {},
   "outputs": [],
   "source": [
    "def PredictionTable(predictions):\n",
    "    y_pred = []\n",
    "    for pred in predictions:\n",
    "        y_pred.append(np.argmax(pred))\n",
    "    cm = pd.DataFrame(metrics.confusion_matrix(y_val, y_pred))\n",
    "    new_cm = pd.DataFrame(columns = [\"TN\", \"FP\", \"FN\", \"TP\"])\n",
    "    for i in range(75):\n",
    "        true_negative = 0\n",
    "        for j in range(75):\n",
    "            if j == i:\n",
    "                continue\n",
    "            true_negative += sum(cm[j][0:i].append(cm[j][i+1:]))\n",
    "        new_cm.loc[i] = [true_negative, sum(cm[i][0:i].append(cm[i][i+1:])), sum(cm.iloc[i][0:i].append(cm.iloc[i][i+1:])), cm[i][i]]\n",
    "    cm = new_cm\n",
    "    cm[\"TN\"] = cm[\"TN\"].astype(np.int64)\n",
    "    cm[\"FP\"] = cm[\"FP\"].astype(np.int64)\n",
    "    cm[\"FN\"] = cm[\"FN\"].astype(np.int64)\n",
    "    cm[\"TP\"] = cm[\"TP\"].astype(np.int64)\n",
    "    cm = cm.assign(precision = cm[\"TP\"] / (cm[\"TP\"] + cm[\"FP\"]))\n",
    "    cm[\"precision\"].astype(np.float64)\n",
    "    cm = cm.assign(recall = cm[\"TP\"] / (cm[\"TP\"] + cm[\"FN\"]))\n",
    "    cm[\"recall\"].astype(np.float64)\n",
    "    cm = cm.assign(f1 = 2 * 1 / ((1 / cm[\"precision\"]) + (1 / cm[\"recall\"])))\n",
    "    cm = cm.assign(fbeta = (1 + 0.5 ** 2) * (cm[\"precision\"] * cm[\"recall\"]) / ((0.5 ** 2 * cm[\"precision\"]) + cm[\"recall\"]))\n",
    "    cm[\"fbeta\"].fillna(0, inplace=True)\n",
    "    cm[\"cluster\"] = labels[\"Cluster\"]\n",
    "    cm = cm.merge(dataset_sizes, how = 'inner', left_on='cluster', right_on=0)\n",
    "    cm.drop(columns=0, inplace = True)\n",
    "    cm.rename(columns={1:\"size\"}, inplace = True)\n",
    "    cm[\"log_size\"] = np.log2(cm[\"size\"])\n",
    "    return cm"
   ]
  },
  {
   "cell_type": "markdown",
   "metadata": {},
   "source": [
    "## Model Training"
   ]
  },
  {
   "cell_type": "code",
   "execution_count": 43,
   "metadata": {},
   "outputs": [
    {
     "name": "stdout",
     "output_type": "stream",
     "text": [
      "Epoch 1/30\n",
      "293/293 [==============================] - 1s 3ms/step - loss: 0.9550 - val_loss: 0.4454\n",
      "Epoch 2/30\n",
      "293/293 [==============================] - 1s 2ms/step - loss: 0.2129 - val_loss: 0.3360\n",
      "Epoch 3/30\n",
      "293/293 [==============================] - 1s 2ms/step - loss: 0.1001 - val_loss: 0.3519\n",
      "Epoch 4/30\n",
      "293/293 [==============================] - 1s 2ms/step - loss: 0.0748 - val_loss: 0.2858\n",
      "Epoch 5/30\n",
      "293/293 [==============================] - 1s 2ms/step - loss: 0.0471 - val_loss: 0.3279\n",
      "Epoch 6/30\n",
      "293/293 [==============================] - 1s 2ms/step - loss: 0.0304 - val_loss: 0.4932\n",
      "Epoch 7/30\n",
      "293/293 [==============================] - 1s 2ms/step - loss: 0.0386 - val_loss: 0.3436\n",
      "Epoch 8/30\n",
      "293/293 [==============================] - 1s 2ms/step - loss: 0.0576 - val_loss: 0.3672\n",
      "Epoch 9/30\n",
      "293/293 [==============================] - 1s 2ms/step - loss: 0.0311 - val_loss: 0.4232\n",
      "2 x 100 relu 1e-05\n"
     ]
    },
    {
     "data": {
      "text/plain": [
       "(0.0, 1.5)"
      ]
     },
     "execution_count": 43,
     "metadata": {},
     "output_type": "execute_result"
    },
    {
     "data": {
      "image/png": "[encoded data removed]",
      "text/plain": [
       "<Figure size 432x288 with 1 Axes>"
      ]
     },
     "metadata": {
      "needs_background": "light"
     },
     "output_type": "display_data"
    },
    {
     "data": {
      "image/png": "[encoded data removed]",
      "text/plain": [
       "<Figure size 432x288 with 1 Axes>"
      ]
     },
     "metadata": {
      "needs_background": "light"
     },
     "output_type": "display_data"
    }
   ],
   "source": [
    "fbeta_dict = {}\n",
    "\n",
    "model = ModelSameLayer(input_size, num_neurons_per_layer, hidden_layers, activation_function, \n",
    "                       l2_regularization, optimizer, loss)\n",
    "\n",
    "callback = tf.keras.callbacks.EarlyStopping(monitor='val_loss', min_delta=0, patience=5, verbose=0)\n",
    "\n",
    "history = model.fit(x_train, y_train, epochs=epochs, validation_data=(x_val, y_val), callbacks=callback)\n",
    "\n",
    "\n",
    "predictions = tf.nn.softmax(model.predict(x_val)).numpy()\n",
    "cm = PredictionTable(predictions)\n",
    "\n",
    "fbeta_dict[activation_function] = []\n",
    "fbeta_dict[activation_function].extend(list(cm[\"fbeta\"]))\n",
    "\n",
    "Title = str(hidden_layers) + \" x \" +str(num_neurons_per_layer) + \" \" + activation_function + \" \" + str(l2_regularization)\n",
    "\n",
    "print(Title)\n",
    "fig = cm.plot.scatter(x=\"log_size\", y=\"fbeta\",ylim=[-0.05, 1.05], title=Title).get_figure()\n",
    "# path = \"Plots/\" + Title + \".png\"\n",
    "# plt.savefig(path)\n",
    "# Loss\n",
    "ax = plt.figure().gca()\n",
    "ax.xaxis.set_major_locator(MaxNLocator(integer=True))\n",
    "plt.plot(history.history['loss'], label=\"Train Loss\")\n",
    "plt.plot(history.history['val_loss'], label=\"Val Loss\")\n",
    "plt.xlabel(\"Epoch\")\n",
    "plt.ylabel(\"Loss\")\n",
    "plt.title(Title + \" Loss\")\n",
    "plt.legend(loc=\"best\")\n",
    "plt.ylim(0, 1.5)\n",
    "# path = \"Plots/\" + Title + \" Loss.png\"\n",
    "# plt.savefig(path)"
   ]
  }
 ],
 "metadata": {
  "kernelspec": {
   "display_name": "Python 3",
   "language": "python",
   "name": "python3"
  },
  "language_info": {
   "codemirror_mode": {
    "name": "ipython",
    "version": 3
   },
   "file_extension": ".py",
   "mimetype": "text/x-python",
   "name": "python",
   "nbconvert_exporter": "python",
   "pygments_lexer": "ipython3",
   "version": "3.8.5"
  }
 },
 "nbformat": 4,
 "nbformat_minor": 4
}
