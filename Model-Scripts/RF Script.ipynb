{
 "cells": [
  {
   "cell_type": "markdown",
   "metadata": {},
   "source": [
    "## Prepping Environment"
   ]
  },
  {
   "cell_type": "code",
   "execution_count": 1,
   "metadata": {},
   "outputs": [],
   "source": [
    "from sklearn import datasets\n",
    "from sklearn.model_selection import train_test_split\n",
    "from sklearn.ensemble import RandomForestClassifier\n",
    "from sklearn import metrics\n",
    "from sklearn import ensemble\n",
    "import pandas as pd\n",
    "import numpy as np\n",
    "import matplotlib.pyplot as plt"
   ]
  },
  {
   "cell_type": "markdown",
   "metadata": {},
   "source": [
    "## Loading Data"
   ]
  },
  {
   "cell_type": "code",
   "execution_count": 2,
   "metadata": {},
   "outputs": [],
   "source": [
    "# Training, validation, and test datasets (60/20/20 split)\n",
    "\n",
    "#train = pd.read_csv(\"FILE PATH/training.csv\", index_col = None) \n",
    "#validation = pd.read_csv(\"FILE PATH/validation.csv\", index_col = None)\n",
    "#test = pd.read_csv(\"FILE PATH/test.csv\", index_col = None)\n",
    "\n",
    "train = pd.read_csv(\"../Datasets/cov_filtered_3.5_training.csv\", index_col = None) \n",
    "validation = pd.read_csv(\"../Datasets/cov_filtered_3.5_validation.csv\", index_col = None)\n",
    "test = pd.read_csv(\"../Datasets/cov_filtered_3.5_test.csv\", index_col = None)"
   ]
  },
  {
   "cell_type": "markdown",
   "metadata": {},
   "source": [
    "## Relabels Classification Column in Datasets"
   ]
  },
  {
   "cell_type": "code",
   "execution_count": 3,
   "metadata": {
    "scrolled": true
   },
   "outputs": [],
   "source": [
    "# Renaming the classifications as numbers\n",
    "\n",
    "#labels = pd.read_csv(\"FILE PATH/labels.csv\")\n",
    "\n",
    "labels = pd.read_csv(\"../Datasets/labels.csv\")\n",
    "labels.columns = [\"Label\", \"Cluster\"]\n",
    "labels_dict = {}\n",
    "for i in range(75):\n",
    "    labels_dict[labels.iloc[i,1]] = i\n",
    "train[\"Classification\"].replace(labels_dict, inplace=True)\n",
    "validation[\"Classification\"].replace(labels_dict, inplace=True)\n",
    "test[\"Classification\"].replace(labels_dict, inplace=True)"
   ]
  },
  {
   "cell_type": "code",
   "execution_count": 4,
   "metadata": {},
   "outputs": [],
   "source": [
    "# Splitting gene expression data and classifications for training, validation, and test\n",
    "size = train.shape[1] - 1\n",
    "x = train.iloc[:, 1:size]\n",
    "y = train.iloc[:, [size]]\n",
    "x_val = validation.iloc[:,1:size]\n",
    "y_val = validation.iloc[:,[size]]\n",
    "x_test = test.iloc[:,1:size]\n",
    "y_test = test.iloc[:,[size]]"
   ]
  },
  {
   "cell_type": "markdown",
   "metadata": {},
   "source": [
    "## Training the model"
   ]
  },
  {
   "cell_type": "code",
   "execution_count": null,
   "metadata": {},
   "outputs": [],
   "source": [
    "%%time\n",
    "#clf = RandomForestClassifier(random_state = 916, n_estimators = 100)  # default\n",
    "clf = RandomForestClassifier(random_state = 916, n_estimators = 1200) # optimal\n",
    "clf.fit(x, y.values.ravel())"
   ]
  },
  {
   "cell_type": "markdown",
   "metadata": {},
   "source": [
    "## Model Prediction"
   ]
  },
  {
   "cell_type": "markdown",
   "metadata": {},
   "source": [
    "#### Run only one box of the three below"
   ]
  },
  {
   "cell_type": "code",
   "execution_count": 16,
   "metadata": {},
   "outputs": [
    {
     "data": {
      "text/plain": [
       "1.0"
      ]
     },
     "execution_count": 16,
     "metadata": {},
     "output_type": "execute_result"
    }
   ],
   "source": [
    "# Run this to predict on training set\n",
    "y_pred = clf.predict(x)\n",
    "#pred_df = pd.DataFrame(y_pred)\n",
    "#pred_df.to_csv(\"./rf_multi_default_training_cov_3.5_pred.csv\")\n",
    "cm = pd.DataFrame(metrics.confusion_matrix(y, y_pred))\n",
    "print(\"Cohen's Kappa: \", metrics.cohen_kappa_score(y, y_pred))"
   ]
  },
  {
   "cell_type": "code",
   "execution_count": 17,
   "metadata": {},
   "outputs": [
    {
     "data": {
      "text/plain": [
       "0.8972938433317634"
      ]
     },
     "execution_count": 17,
     "metadata": {},
     "output_type": "execute_result"
    }
   ],
   "source": [
    "# Run this to predict on validation set\n",
    "y_pred = clf.predict(x_val)\n",
    "cm = pd.DataFrame(metrics.confusion_matrix(y_val, y_pred))\n",
    "print(\"Cohen's Kappa: \", metrics.cohen_kappa_score(y_val, y_pred))"
   ]
  },
  {
   "cell_type": "code",
   "execution_count": 18,
   "metadata": {},
   "outputs": [
    {
     "data": {
      "text/plain": [
       "0.9007267185205108"
      ]
     },
     "execution_count": 18,
     "metadata": {},
     "output_type": "execute_result"
    }
   ],
   "source": [
    "# Run this to predict on testing set\n",
    "y_pred = clf.predict(x_test)\n",
    "cm = pd.DataFrame(metrics.confusion_matrix(y_test, y_pred))\n",
    "print(\"Cohen's Kappa: \", metrics.cohen_kappa_score(y_test, y_pred))"
   ]
  },
  {
   "cell_type": "code",
   "execution_count": null,
   "metadata": {},
   "outputs": [],
   "source": [
    "# Saving validation and testing predictions\n",
    "#y_pred_val = clf.predict(x_val)\n",
    "#y_pred_test = clf.predict(x_test)\n",
    "#pred_df = pd.DataFrame(y_pred_val)\n",
    "#pred_df.columns = [\"Validation\"]\n",
    "#pred_df[\"Test\"] = y_pred_test\n",
    "#pred_df.to_csv(\"./rf_multi_default_training_cov_3.5_pred.csv\")"
   ]
  },
  {
   "cell_type": "code",
   "execution_count": null,
   "metadata": {},
   "outputs": [],
   "source": [
    "# Creating confusion matrix\n",
    "new_cm = pd.DataFrame(columns = [\"TN\", \"FP\", \"FN\", \"TP\"])\n",
    "for i in range(75):\n",
    "    true_negative = 0\n",
    "    for j in range(75):\n",
    "        if j == i:\n",
    "            continue\n",
    "        true_negative += sum(cm[j][0:i].append(cm[j][i+1:]))\n",
    "    new_cm.loc[i] = [true_negative, sum(cm[i][0:i].append(cm[i][i+1:])), sum(cm.iloc[i][0:i].append(cm.iloc[i][i+1:])), cm[i][i]]\n",
    "cm = new_cm\n",
    "# Number of cells per preassigned cluster\n",
    "\n",
    "#dataset_sizes = pd.read_csv(\"FILE PATH/subset_sizes.csv\", header = None)\n",
    "\n",
    "dataset_sizes = pd.read_csv(\"../Datasets/subset_sizes.csv\", header = None)\n",
    "cm[\"TN\"] = cm[\"TN\"].astype(np.int64)\n",
    "cm[\"FP\"] = cm[\"FP\"].astype(np.int64)\n",
    "cm[\"FN\"] = cm[\"FN\"].astype(np.int64)\n",
    "cm[\"TP\"] = cm[\"TP\"].astype(np.int64)\n",
    "# Precision calculation\n",
    "cm = cm.assign(precision = cm[\"TP\"] / (cm[\"TP\"] + cm[\"FP\"]))\n",
    "cm[\"precision\"].astype(np.float64)\n",
    "# Recall calculation\n",
    "cm = cm.assign(recall = cm[\"TP\"] / (cm[\"TP\"] + cm[\"FN\"]))\n",
    "cm[\"recall\"].astype(np.float64)\n",
    "# Fbeta calculation\n",
    "cm = cm.assign(fbeta = (1 + 0.5 ** 2) * (cm[\"precision\"] * cm[\"recall\"]) / ((0.5 ** 2 * cm[\"precision\"]) + cm[\"recall\"]))\n",
    "cm[\"fbeta\"].fillna(0, inplace=True)\n",
    "cm[\"cluster\"] = labels[\"0\"]\n",
    "cm = cm.merge(dataset_sizes, how = 'inner', left_on='cluster', right_on=0)\n",
    "cm.drop(columns=0, inplace = True)\n",
    "cm.rename(columns={1:\"size\"}, inplace = True)\n",
    "cm[\"log_size\"] = np.log2(cm[\"size\"])"
   ]
  },
  {
   "cell_type": "code",
   "execution_count": null,
   "metadata": {},
   "outputs": [],
   "source": [
    "# Final confusion matrix with Fbeta scores\n",
    "cm"
   ]
  },
  {
   "cell_type": "markdown",
   "metadata": {},
   "source": [
    "## Plotting"
   ]
  },
  {
   "cell_type": "code",
   "execution_count": null,
   "metadata": {},
   "outputs": [],
   "source": [
    "fig = cm.plot.scatter(x=\"log_size\", y=\"fbeta\", title=\"RF Multi Default Test COV 3.5\", ylim=[-0.05,1.05]).get_figure()\n",
    "plt.xlabel(\"Log2 Size\")\n",
    "plt.ylabel(\"F-beta Score\")"
   ]
  },
  {
   "cell_type": "markdown",
   "metadata": {},
   "source": [
    "## Saving Confusion Matrix"
   ]
  },
  {
   "cell_type": "code",
   "execution_count": null,
   "metadata": {},
   "outputs": [],
   "source": [
    "cm.to_csv(\"./rf_multi_default_training_cov_3.5.csv\")"
   ]
  }
 ],
 "metadata": {
  "kernelspec": {
   "display_name": "Python 3",
   "language": "python",
   "name": "python3"
  },
  "language_info": {
   "codemirror_mode": {
    "name": "ipython",
    "version": 3
   },
   "file_extension": ".py",
   "mimetype": "text/x-python",
   "name": "python",
   "nbconvert_exporter": "python",
   "pygments_lexer": "ipython3",
   "version": "3.8.5"
  }
 },
 "nbformat": 4,
 "nbformat_minor": 4
}
