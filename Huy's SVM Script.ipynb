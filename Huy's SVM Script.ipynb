{
 "cells": [
  {
   "cell_type": "code",
   "execution_count": 1,
   "metadata": {},
   "outputs": [],
   "source": [
    "from sklearn import metrics\n",
    "from sklearn import preprocessing\n",
    "from sklearn.preprocessing import StandardScaler\n",
    "import matplotlib.pyplot as plt\n",
    "from sklearn import svm\n",
    "import numpy as np\n",
    "import os\n",
    "import pandas as pd"
   ]
  },
  {
   "cell_type": "code",
   "execution_count": 5,
   "metadata": {},
   "outputs": [
    {
     "name": "stdout",
     "output_type": "stream",
     "text": [
      "CPU times: user 4.27 s, sys: 547 ms, total: 4.81 s\n",
      "Wall time: 4.86 s\n"
     ]
    }
   ],
   "source": [
    "%%time\n",
    "train = pd.read_csv(\"./datasets/cov_filtered_2.5_training.csv\", index_col=None)"
   ]
  },
  {
   "cell_type": "code",
   "execution_count": 6,
   "metadata": {},
   "outputs": [
    {
     "name": "stdout",
     "output_type": "stream",
     "text": [
      "CPU times: user 1.52 s, sys: 125 ms, total: 1.64 s\n",
      "Wall time: 1.68 s\n"
     ]
    }
   ],
   "source": [
    "%%time\n",
    "validation = pd.read_csv(\"./datasets/cov_filtered_2.5_validation.csv\", index_col=None)"
   ]
  },
  {
   "cell_type": "code",
   "execution_count": 7,
   "metadata": {},
   "outputs": [
    {
     "name": "stdout",
     "output_type": "stream",
     "text": [
      "CPU times: user 1.48 s, sys: 109 ms, total: 1.59 s\n",
      "Wall time: 1.58 s\n"
     ]
    }
   ],
   "source": [
    "%%time\n",
    "test = pd.read_csv(\"./datasets/cov_filtered_2.5_test.csv\", index_col=None)"
   ]
  },
  {
   "cell_type": "code",
   "execution_count": 8,
   "metadata": {},
   "outputs": [],
   "source": [
    "labels = pd.read_csv(\"labels.csv\")\n",
    "labels.columns = [\"Label\", \"Cluster\"]\n",
    "labels_dict = {}\n",
    "for i in range(75):\n",
    "    labels_dict[labels.iloc[i,1]] = i\n",
    "train[\"Classification\"].replace(labels_dict, inplace=True)\n",
    "validation[\"Classification\"].replace(labels_dict, inplace=True)\n",
    "test[\"Classification\"].replace(labels_dict, inplace=True)"
   ]
  },
  {
   "cell_type": "code",
   "execution_count": 10,
   "metadata": {},
   "outputs": [],
   "source": [
    "size = train.shape[1] - 1\n",
    "x = train.iloc[:, 1:size]\n",
    "y = train.iloc[:, [size]]\n",
    "x_val = validation.iloc[:,1:size]\n",
    "y_val = validation.iloc[:,[size]]\n",
    "x_test = test.iloc[:,1:size]\n",
    "y_test = test.iloc[:,[size]]"
   ]
  },
  {
   "cell_type": "code",
   "execution_count": null,
   "metadata": {},
   "outputs": [],
   "source": [
    "%%time\n",
    "# Used to run through entire cluster set\n",
    "cm = pd.DataFrame()\n",
    "cm_train = pd.DataFrame()\n",
    "cm_test = pd.DataFrame()\n",
    "roc_curve_data = pd.DataFrame()\n",
    "\n",
    "for i in range(75):\n",
    "    class_model = i\n",
    "    \n",
    "    y = train.iloc[:, [size]]\n",
    "    y_np = np.array(y[\"Classification\"].values.tolist())\n",
    "    y[\"Classification\"] = np.where(y_np == class_model, 1,0)\n",
    "    \n",
    "    y_val = validation.iloc[:, [size]]\n",
    "    y_val_np = np.array(y_val[\"Classification\"].values.tolist())\n",
    "    y_val[\"Classification\"] = np.where(y_val_np == class_model, 1,0)\n",
    "    \n",
    "    y_test = test.iloc[:, [size]]\n",
    "    y_test_np = np.array(y_test[\"Classification\"].values.tolist())\n",
    "    y_test[\"Classification\"] = np.where(y_test_np == class_model, 1,0)\n",
    "    \n",
    "    clf = svm.SVC(kernel='linear')\n",
    "    clf.fit(x, y.values.ravel())\n",
    "    \n",
    "    y_pred = clf.predict(x_val)\n",
    "    y_pred_train = clf.predict(x)\n",
    "    y_pred_test = clf.predict(x_test)\n",
    "    \n",
    "    cm_dummy = [cm, pd.DataFrame(metrics.confusion_matrix(y_val, y_pred))]\n",
    "    cm = pd.concat(cm_dummy)\n",
    "    \n",
    "    cm_dummy_train = [cm_train, pd.DataFrame(metrics.confusion_matrix(y, y_pred_train))]\n",
    "    cm_train = pd.concat(cm_dummy_train)\n",
    "    \n",
    "    cm_dummy_test = [cm_test, pd.DataFrame(metrics.confusion_matrix(y_test, y_pred_test))]\n",
    "    cm_test = pd.concat(cm_dummy_test)"
   ]
  },
  {
   "cell_type": "markdown",
   "metadata": {},
   "source": [
    "## Run only one box of the three below"
   ]
  },
  {
   "cell_type": "code",
   "execution_count": null,
   "metadata": {},
   "outputs": [],
   "source": [
    "new_cm = pd.DataFrame(columns = [\"TN\", \"FP\", \"FN\", \"TP\"])\n",
    "for i in range(75):\n",
    "    new_cm.loc[i] = [cm.iloc[0+2*i][0], cm.iloc[0+2*i][1], cm.iloc[1+2*i][0], cm.iloc[1+2*i][1]]"
   ]
  },
  {
   "cell_type": "code",
   "execution_count": null,
   "metadata": {},
   "outputs": [],
   "source": [
    "new_cm = pd.DataFrame(columns = [\"TN\", \"FP\", \"FN\", \"TP\"])\n",
    "for i in range(75):\n",
    "    new_cm.loc[i] = [cm_train.iloc[0+2*i][0], cm_train.iloc[0+2*i][1], cm_train.iloc[1+2*i][0], cm_train.iloc[1+2*i][1]]"
   ]
  },
  {
   "cell_type": "code",
   "execution_count": null,
   "metadata": {},
   "outputs": [],
   "source": [
    "new_cm = pd.DataFrame(columns = [\"TN\", \"FP\", \"FN\", \"TP\"])\n",
    "for i in range(75):\n",
    "    new_cm.loc[i] = [cm_test.iloc[0+2*i][0], cm_test.iloc[0+2*i][1], cm_test.iloc[1+2*i][0], cm_test.iloc[1+2*i][1]]"
   ]
  },
  {
   "cell_type": "markdown",
   "metadata": {},
   "source": [
    "##  "
   ]
  },
  {
   "cell_type": "code",
   "execution_count": null,
   "metadata": {},
   "outputs": [],
   "source": [
    "cm = new_cm"
   ]
  },
  {
   "cell_type": "code",
   "execution_count": null,
   "metadata": {},
   "outputs": [],
   "source": [
    "labels = pd.read_csv(\"labels.csv\")\n",
    "dataset_sizes = pd.read_csv(\"subset sizes.csv\", header = None)"
   ]
  },
  {
   "cell_type": "code",
   "execution_count": null,
   "metadata": {},
   "outputs": [],
   "source": [
    "cm[\"TN\"] = cm[\"TN\"].astype(np.int64)\n",
    "cm[\"FP\"] = cm[\"FP\"].astype(np.int64)\n",
    "cm[\"FN\"] = cm[\"FN\"].astype(np.int64)\n",
    "cm[\"TP\"] = cm[\"TP\"].astype(np.int64)\n",
    "cm = cm.assign(precision = cm[\"TP\"] / (cm[\"TP\"] + cm[\"FP\"]))\n",
    "cm[\"precision\"].astype(np.float64)\n",
    "#cm[\"precision\"].fillna(1, inplace=True)\n",
    "cm = cm.assign(recall = cm[\"TP\"] / (cm[\"TP\"] + cm[\"FN\"]))\n",
    "cm[\"recall\"].astype(np.float64)\n",
    "cm = cm.assign(f1 = 2 * 1 / ((1 / cm[\"precision\"]) + (1 / cm[\"recall\"])))\n",
    "cm = cm.assign(fbeta = (1 + 0.5 ** 2) * (cm[\"precision\"] * cm[\"recall\"]) / ((0.5 ** 2 * cm[\"precision\"]) + cm[\"recall\"]))\n",
    "cm[\"fbeta\"].fillna(0, inplace=True)\n",
    "cm[\"cluster\"] = labels[\"0\"]\n",
    "cm = cm.merge(dataset_sizes, how = 'inner', left_on='cluster', right_on=0)\n",
    "cm.drop(columns=0, inplace = True)\n",
    "cm.rename(columns={1:\"size\"}, inplace = True)\n",
    "cm[\"log_size\"] = np.log2(cm[\"size\"])"
   ]
  },
  {
   "cell_type": "code",
   "execution_count": null,
   "metadata": {},
   "outputs": [],
   "source": [
    "fig = cm.plot.scatter(x=\"log_size\", y=\"fbeta\", title=\"LR C=0.1, Newton\", ylim=[-0.05,1.05]).get_figure()\n",
    "plt.xlabel(\"Log2 Size\")\n",
    "plt.ylabel(\"F-beta Score\")"
   ]
  }
 ],
 "metadata": {
  "kernelspec": {
   "display_name": "Python 3",
   "language": "python",
   "name": "python3"
  },
  "language_info": {
   "codemirror_mode": {
    "name": "ipython",
    "version": 3
   },
   "file_extension": ".py",
   "mimetype": "text/x-python",
   "name": "python",
   "nbconvert_exporter": "python",
   "pygments_lexer": "ipython3",
   "version": "3.8.5"
  }
 },
 "nbformat": 4,
 "nbformat_minor": 4
}
